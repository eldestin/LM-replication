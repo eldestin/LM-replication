{
 "cells": [
  {
   "cell_type": "markdown",
   "id": "1a31820c",
   "metadata": {},
   "source": [
    "## Basic idea\n",
    "Based on N-grams model, the conditional probability of word x at time step t only depends on the n-1 previous words. Use a latent variable $h_(t-1)$ to represent the following equation:"
   ]
  },
  {
   "cell_type": "markdown",
   "id": "4a757ff0",
   "metadata": {},
   "source": [
    "$P(x_t | x_{t-1}, ..., x_1) = P(x_t|h_{t-1})$, where $h_(t-1)$ is the hidden state stores the sequence information up to time step t - 1"
   ]
  },
  {
   "cell_type": "markdown",
   "id": "3b25437e",
   "metadata": {},
   "source": [
    "## Problem\n",
    "By storing all data observed so far, it's easily to get both computation and storage expensive."
   ]
  },
  {
   "cell_type": "markdown",
   "id": "1e9087c7",
   "metadata": {},
   "source": [
    "## Formula\n",
    "Notice that for each input $X_t$, denote $H_t$ represent as the hidden variable of time step t, here we need to calculate the previous time step t-1 hidden states by a weight parameter $W_{hh}$ to update hidden state. Also, same as MLP, a weighted matrix $W_{xh}$ is introduced to modify input x"
   ]
  },
  {
   "cell_type": "markdown",
   "id": "765a18df",
   "metadata": {},
   "source": [
    "Formula: ----------------------$H_t = f(X_tW_{xh} + H_{t-1}W_{hh} + b_h)$--------------, where f is activation function"
   ]
  },
  {
   "cell_type": "markdown",
   "id": "6705ab6d",
   "metadata": {},
   "source": [
    "## Output Representation\n",
    "$O_t = H_tW_{hq} + b_q$"
   ]
  },
  {
   "cell_type": "markdown",
   "id": "47684619",
   "metadata": {},
   "source": [
    "So, in a basic RNN, the learnable variable is shown below:\n",
    "1. $W_{xh} \\in R^{d*h}, b_h \\in R^{1*h}$\n",
    "2. $W_{hh} \\in R^{h*h}$\n",
    "3. $W_{hq} \\in R^{h*q}, b_q \\in R^{1*q}$"
   ]
  },
  {
   "cell_type": "markdown",
   "id": "4a4e7fe1",
   "metadata": {},
   "source": [
    "## Perplexity\n",
    "The metric that measure the language model quality. Notice that a better LM should allow us to predict the next token more accurately.\n",
    "\n",
    "Perplexity = $exp(-\\frac{1}{n}\\sum^n_{t=1}log(P(x_t|x_{t-1},...,x_1)))$"
   ]
  },
  {
   "attachments": {
    "image.png": {
     "image/png": "[encoded data removed]"
    }
   },
   "cell_type": "markdown",
   "id": "e13a373d",
   "metadata": {},
   "source": [
    "## Bidirectional Model\n",
    "![image.png](attachment:image.png)\n",
    "Similar to Hidden Markov Model(use dynamic programming in solution), judge forward and backward recursions as two learnable fuctions. This transition also epitomizes many principles guiding the design of modern deep networks: First use the classical statistical models, and then parameterize them in a generic form"
   ]
  },
  {
   "cell_type": "markdown",
   "id": "768d797a",
   "metadata": {},
   "source": [
    "## Definition\n",
    "For any time step t, given a minibatch input $X_t \\in R^{n*d}$, let the hidden layer activation function be $f$, In bidirectional architecture, we have forward and backward hidden states for time step here:\n",
    "1. $H_f = f(X_tW_{xh}^f + H_{t-1}W_{hh}^f + b_h^f)$\n",
    "2. $H_b = f(X_tW_{xh}^b + H_{t-1}W_{hh}^b + b_h^b)$"
   ]
  },
  {
   "cell_type": "markdown",
   "id": "8317e3f7",
   "metadata": {},
   "source": [
    "Then, concatenate the forward and backward hidden states to obtain a new hidden state $H_t \\in R^{n*2h}$ to fed into output layer. The formula is shown below:\n",
    "\n",
    "$O_t = H_tW_{hq} + b_q$"
   ]
  },
  {
   "cell_type": "markdown",
   "id": "5a4eb98b",
   "metadata": {},
   "source": [
    "## Architecture"
   ]
  },
  {
   "cell_type": "code",
   "execution_count": 5,
   "id": "4fb5878c",
   "metadata": {},
   "outputs": [],
   "source": [
    "import torch \n",
    "from torch import nn\n",
    "import pandas as pd\n",
    "import numpy as np\n",
    "import math\n",
    "from torch.cuda import amp\n",
    "from transformers import get_cosine_schedule_with_warmup\n",
    "from collections import Counter\n",
    "import collections"
   ]
  },
  {
   "cell_type": "markdown",
   "id": "9aa06f02",
   "metadata": {},
   "source": [
    "By using truncation, padding and embedding, each input representation should be (bs, max_len, num_hiddens)"
   ]
  },
  {
   "cell_type": "markdown",
   "id": "8c90e53a",
   "metadata": {},
   "source": [
    "Notice that we judge it as a multi-class classification problem"
   ]
  },
  {
   "cell_type": "code",
   "execution_count": 6,
   "id": "c3c42718",
   "metadata": {},
   "outputs": [],
   "source": [
    "class RNN_block(nn.Module):\n",
    "    def __init__(self,vocab_size,embed_size,num_hiddens, bias = True):\n",
    "        super(RNN_block, self).__init__()\n",
    "        self.W_xh = nn.Linear(embed_size, num_hiddens)\n",
    "        self.W_hh = nn.Linear(num_hiddens, num_hiddens, bias = bias)\n",
    "        self.W_hq = nn.Linear(num_hiddens, vocab_size, bias= bias)\n",
    "        # use embedding \n",
    "        self.embedding_matrix = nn.Embedding(vocab_size,num_hiddens)\n",
    "    def init_state(self, bs, num_hiddens, device):\n",
    "        return torch.zeros((bs, num_hiddens), device = device)\n",
    "    \n",
    "    def forward(self, input_, previous_state):\n",
    "        # shape of input_ (bs, time_step)\n",
    "        # for loop on time step column\n",
    "        input_ = self.embedding_matrix(input_)\n",
    "        #print(input_.shape)\n",
    "        outputs = []\n",
    "        state_ls = []\n",
    "        for i in input_.permute(1,0,2):\n",
    "            previous_state = torch.tanh(self.W_xh(i) + self.W_hh(previous_state))\n",
    "            #print(\"hidden state shape:\", previous_state.shape)\n",
    "            output = self.W_hq(previous_state)\n",
    "            #print(\"output shape\", output.shape)\n",
    "            outputs.append(output)\n",
    "            state_ls.append(previous_state)\n",
    "        # return the output sequences of each block output and last hidden state\n",
    "        return outputs, state_ls"
   ]
  },
  {
   "cell_type": "code",
   "execution_count": 7,
   "id": "3cef52aa",
   "metadata": {},
   "outputs": [
    {
     "data": {
      "text/plain": [
       "torch.Size([2, 200])"
      ]
     },
     "execution_count": 7,
     "metadata": {},
     "output_type": "execute_result"
    }
   ],
   "source": [
    "# test layer\n",
    "# (bs, num_step, num_hiddens)\n",
    "x = torch.ones((2,6), dtype = torch.long)\n",
    "rnn = RNN_block(200,24)\n",
    "previous_state = rnn.init_state(2, 24)\n",
    "rnn.eval()\n",
    "# rnn.to(torch.device(\"cuda\"))\n",
    "rnn(x, previous_state)[0][0].shape"
   ]
  },
  {
   "cell_type": "markdown",
   "id": "0cbe7fe0",
   "metadata": {},
   "source": [
    "## Gradient Clipping\n",
    "Notice that for sequence length T, gradient may either explode or vanish when T is large. A vector form x, with direction g, then we update x as $x - \\alpha g$, then, we can say that for any x,y, $|f(x) - f(y)| <= L||x - y||$ (by Lipschitz continuous with constant L), which means we will not observed a changed more than ||$L\\alpha |g$||, which means although we limit the gradient decent speed, it also limits the extent if we go wrong direction"
   ]
  },
  {
   "cell_type": "markdown",
   "id": "74daf125",
   "metadata": {},
   "source": [
    "## Method\n",
    "Clip the gradient g by projecting them back to a ball of a given radius $\\theta$, by the following formula\n",
    "\n",
    "$g <- min(1, \\frac{\\theta}{||g||})g$\n",
    "\n",
    "Which means the gradient norm will never exceeds $\\theta$"
   ]
  },
  {
   "cell_type": "code",
   "execution_count": 8,
   "id": "a48811fa",
   "metadata": {},
   "outputs": [],
   "source": [
    "def clip_grad(net, theta):\n",
    "    params = [p for p in net.parameters() if p.requires_grad]\n",
    "    # get the gradient norm\n",
    "    norm = torch.sqrt(sum(torch.sum((p.grad **2 )) for p in params))\n",
    "    if norm > theta:\n",
    "        for param in params:\n",
    "            param.grad[:] *= theta/norm"
   ]
  },
  {
   "cell_type": "markdown",
   "id": "419c5929",
   "metadata": {},
   "source": [
    "## Use on English-french translation dataset (apply seq2seq model)"
   ]
  },
  {
   "cell_type": "code",
   "execution_count": 9,
   "id": "70ebda9e",
   "metadata": {},
   "outputs": [],
   "source": [
    "# basic processing code\n",
    "class Build_vocabulary(object):\n",
    "    '''\n",
    "    Here we need to bulid a vocabulary for mapping\n",
    "    '''\n",
    "    def __init__(self, tokens = None, min_freq = 0, special_tokens = None):\n",
    "        if tokens is None:\n",
    "            tokens = []\n",
    "        if special_tokens is None:\n",
    "            special_tokens = []\n",
    "        tokens = [token for line in tokens for token in line]\n",
    "        counter = Counter(tokens)\n",
    "        # sort by frequency\n",
    "        self.freq = sorted(counter.items(), key = lambda x: x[1], reverse=True)\n",
    "        # set special token\n",
    "        self.idx_to_token = [\"<unk>\"] + special_tokens\n",
    "        self.token_to_id = {token: ids for ids, token in enumerate(self.idx_to_token)}\n",
    "        for token, freq in self.freq:\n",
    "            if freq < min_freq:\n",
    "                break\n",
    "            if token not in self.token_to_id:\n",
    "                self.idx_to_token.append(token)\n",
    "                self.token_to_id[token] = len(self.idx_to_token) - 1\n",
    "                \n",
    "    #build some internal property\n",
    "    def __len__(self):\n",
    "        return len(self.idx_to_token)\n",
    "    \n",
    "    def __getitem__(self, token):\n",
    "        '''\n",
    "        Return the token:ids for each input token in dict\n",
    "        '''\n",
    "        if not isinstance(token, (list, tuple)):\n",
    "            return self.token_to_id.get(token, 0)\n",
    "        return [self.__getitem__(token_) for token_ in token]\n",
    "    \n",
    "    def indices_to_tokens(self, indices):\n",
    "        if not isinstance(indices, (list, tuple)):\n",
    "            return self.idx_to_token[indices]\n",
    "        return [self.idx_to_token[index] for index in indices]\n",
    "\n",
    "def read_dataset():\n",
    "    with open(\"./fra-eng/fra.txt\", \"r\", encoding=\"utf-8\") as f:\n",
    "        text = f.read()\n",
    "        text = text.replace('\\u202f', ' ').replace('\\xa0', ' ').lower()\n",
    "    def no_space(char, prev_char):\n",
    "        return char in set(',.!?') and prev_char != \" \"\n",
    "    out = []\n",
    "    for i, char in enumerate(text):\n",
    "        if i>0 and no_space(char, text[i-1]):\n",
    "            out.append(' '+char)\n",
    "        else:\n",
    "            out.append(char)\n",
    "    text = \"\".join(out)\n",
    "    # Tokenization\n",
    "    english_word, french_word = [], []\n",
    "    for i, sentence in enumerate(text.split(\"\\n\")):\n",
    "        # split by \\t\n",
    "        result = sentence.split(\"\\t\")\n",
    "        if len(result) == 2:\n",
    "            english_word.append(result[0].split(\" \"))\n",
    "            french_word.append(result[1].split(\" \"))\n",
    "    return english_word, french_word\n",
    "\n",
    "def padding_truncation(tokens, max_lens, padding_token):\n",
    "    if len(tokens) > max_lens:\n",
    "        return tokens[:max_lens]\n",
    "    return tokens + [padding_token]*(max_lens - len(tokens))\n",
    "\n",
    "def build_array(tokens, dic, max_length):\n",
    "    '''\n",
    "    This function build the array of each token\n",
    "    '''\n",
    "    tokens_mapping = [dic[token] for token in tokens]\n",
    "    tokens_mapping = [token + [dic[\"<eos>\"]] for token in tokens_mapping]\n",
    "    # add padding, truncation\n",
    "    tensor = torch.tensor([padding_truncation(token, max_length, dic[\"<pad>\"]) for token in tokens_mapping])\n",
    "    valid_len = (tensor != dic[\"<pad>\"]).type(torch.int32).sum(1)\n",
    "    return tensor, valid_len\n",
    "\n",
    "def processing_french_english_dataset(batch_size, max_length):\n",
    "    english_word, french_word = read_dataset()\n",
    "    english_mapping = Build_vocabulary(english_word, min_freq=2, \n",
    "                                   special_tokens=[\"<pad>\", \"<bos>\", \"<eos>\"])\n",
    "    french_mapping = Build_vocabulary(french_word, min_freq=2, \n",
    "                                   special_tokens=[\"<pad>\", \"<bos>\", \"<eos>\"])\n",
    "    english_array, english_valid_len = build_array(english_word, english_mapping, max_length)\n",
    "    french_array, french_valid_len = build_array(french_word, french_mapping, max_length)\n",
    "    dataset = torch.utils.data.TensorDataset(*(english_array, english_valid_len, french_array, french_valid_len))\n",
    "    data_iter = torch.utils.data.DataLoader(dataset,batch_size = batch_size, shuffle = True)\n",
    "    return data_iter, english_mapping, french_mapping\n",
    "\n",
    "class MaskedSoftmaxCELoss(nn.CrossEntropyLoss):\n",
    "    \"\"\"带遮蔽的softmax交叉熵损失函数\"\"\"\n",
    "    # pred的形状：(batch_size,num_steps,vocab_size)\n",
    "    # label的形状：(batch_size,num_steps)\n",
    "    # valid_len的形状：(batch_size,)\n",
    "    def forward(self, pred, label, valid_len):\n",
    "        #print(pred.shape, label.shape, valid_len.shape)\n",
    "        weights = torch.ones_like(label)\n",
    "        max_len = weights.size(1)\n",
    "        mask = torch.arange((max_len), dtype = torch.float32,\n",
    "                           device = weights.device)[None,:] < valid_len[:,None]\n",
    "        weights[~mask] = 0\n",
    "        self.reduction='none'\n",
    "        unweighted_loss = super(MaskedSoftmaxCELoss, self).forward(\n",
    "            pred.permute(0, 2, 1), label)\n",
    "        weighted_loss = (unweighted_loss * weights).mean(dim=1)\n",
    "        return weighted_loss"
   ]
  },
  {
   "cell_type": "code",
   "execution_count": null,
   "id": "4aed10e4",
   "metadata": {},
   "outputs": [],
   "source": [
    "# set parameters\n",
    "num_hiddens,bs, num_step= 64, 128,10\n",
    "lr, num_epochs, device = 2e-4, 200, torch.device(\"cuda\") if torch.cuda.is_available() else torch.device(\"cpu\")"
   ]
  }
 ],
 "metadata": {
  "kernelspec": {
   "display_name": "Python 3",
   "language": "python",
   "name": "python3"
  },
  "language_info": {
   "codemirror_mode": {
    "name": "ipython",
    "version": 3
   },
   "file_extension": ".py",
   "mimetype": "text/x-python",
   "name": "python",
   "nbconvert_exporter": "python",
   "pygments_lexer": "ipython3",
   "version": "3.8.8"
  }
 },
 "nbformat": 4,
 "nbformat_minor": 5
}
